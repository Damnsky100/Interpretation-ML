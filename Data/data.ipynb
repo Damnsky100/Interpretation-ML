{
 "cells": [
  {
   "cell_type": "markdown",
   "metadata": {},
   "source": [
    "## Interprétation de Random Forest "
   ]
  },
  {
   "cell_type": "code",
   "execution_count": 19,
   "metadata": {},
   "outputs": [
    {
     "data": {
      "text/plain": [
       "1       19.488203\n",
       "2       25.841992\n",
       "3       33.727202\n",
       "4       24.367095\n",
       "5       34.564927\n",
       "          ...    \n",
       "4996    24.382313\n",
       "4997    14.903127\n",
       "4998    25.422693\n",
       "4999    20.584727\n",
       "5000    30.659765\n",
       "Name: y, Length: 5000, dtype: float64"
      ]
     },
     "execution_count": 19,
     "metadata": {},
     "output_type": "execute_result"
    }
   ],
   "source": [
    "import pandas as pd\n",
    "#On charge les données\n",
    "datatrain = pd.read_csv(\"C:/Users/Sébastien/Desktop/Travail Session Data Mining/Data/clv_mobile_data_train.txt\", sep='\\s+' ) #\"\\s+\"\" = regex separator for space\n",
    "datatest = pd.read_csv(\"C:/Users/Sébastien/Desktop/Travail Session Data Mining/Data/clv_mobile_data_test.txt\", sep='\\s+' ) \n"
   ]
  },
  {
   "cell_type": "code",
   "execution_count": 27,
   "metadata": {},
   "outputs": [],
   "source": [
    "#On va créer une forêt aléatoire avec le package scikit learn\n",
    "import sklearn\n",
    "from sklearn.ensemble import RandomForestRegressor\n",
    "import numpy as np\n",
    "#Set seed\n",
    "np.random.seed(1234)\n",
    "#Prepare our data\n",
    "x_train = datatrain.iloc[:,0:16]\n",
    "y_train = datatrain.iloc[:,16]\n",
    "x_test = datatest.iloc[:,0:16]\n",
    "y_test = datatest.iloc[:,16]\n",
    "\n",
    "\n",
    "#On fait la regression\n",
    "regressor = RandomForestRegressor(n_estimators=500, random_state=0)\n",
    "regressor.fit(x_train, y_train)\n",
    "y_pred = regressor.predict(x_test)\n",
    "\n"
   ]
  },
  {
   "cell_type": "code",
   "execution_count": 30,
   "metadata": {},
   "outputs": [
    {
     "name": "stdout",
     "output_type": "stream",
     "text": [
      "Mean Absolute Error: 4.497899732619061\n",
      "Mean Squared Error: 34.7603904799941\n",
      "Root Mean Squared Error: 5.895794304416844\n",
      "R2 score is : 0.7709379016766791\n"
     ]
    }
   ],
   "source": [
    "from sklearn import metrics\n",
    "import numpy as np\n",
    "#See our results\n",
    "print('Mean Absolute Error:', metrics.mean_absolute_error(y_test, y_pred))\n",
    "print('Mean Squared Error:', metrics.mean_squared_error(y_test, y_pred))\n",
    "print('Root Mean Squared Error:', np.sqrt(metrics.mean_squared_error(y_test, y_pred)))\n",
    "print('R2 score is :', sklearn.metrics.r2_score(y_test, y_pred) )"
   ]
  }
 ],
 "metadata": {
  "kernelspec": {
   "display_name": "Python 3.9.1 64-bit (system)",
   "language": "python",
   "name": "python3"
  },
  "language_info": {
   "codemirror_mode": {
    "name": "ipython",
    "version": 3
   },
   "file_extension": ".py",
   "mimetype": "text/x-python",
   "name": "python",
   "nbconvert_exporter": "python",
   "pygments_lexer": "ipython3",
   "version": "3.9.1"
  },
  "orig_nbformat": 4,
  "vscode": {
   "interpreter": {
    "hash": "88d95b9faf0006cda2cd8f2d842f9d437694bb0235889fd647749f86105db9c8"
   }
  }
 },
 "nbformat": 4,
 "nbformat_minor": 2
}
